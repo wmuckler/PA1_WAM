{
 "cells": [
  {
   "cell_type": "markdown",
   "id": "f20ce98d-fe2b-4c02-8a0c-d01fbd050625",
   "metadata": {},
   "source": [
    "# Programming Assignment 1\n",
    "---\n",
    "**Author:** William Muckler \n",
    "**Version:** 1.0  \n",
    "**Semester:** Spring 2024 \n",
    "\n",
    "This *notebook* contains my solution(s) to **Programming Assignment 1**\n"
   ]
  },
  {
   "cell_type": "markdown",
   "id": "be8372d7-5918-4592-b808-afc5fa9c71a7",
   "metadata": {},
   "source": [
    "### Problem 1 - Manipulating Numbers "
   ]
  },
  {
   "cell_type": "code",
   "execution_count": 17,
   "id": "a7a1a640-f027-4419-a5ae-1d6f8b94858d",
   "metadata": {
    "tags": []
   },
   "outputs": [
    {
     "name": "stdin",
     "output_type": "stream",
     "text": [
      "Enter a floating point number:  44.3\n",
      "Enter an integer:  16\n"
     ]
    },
    {
     "name": "stdout",
     "output_type": "stream",
     "text": [
      "The sum is 60.300\n",
      "The difference is 28.300\n",
      "The product is 708.800\n",
      "The quotient is 2.769\n",
      "The type for the result is <class 'float'>\n"
     ]
    }
   ],
   "source": [
    "N1 = float(input('Enter a floating point number: '))\n",
    "N2 = int(input('Enter an integer: '))\n",
    "result = N1 + N2\n",
    "print(f'The sum is {result:.3f}')\n",
    "result = N1 - N2\n",
    "print(f'The difference is {result:.3f}')\n",
    "result = N1 * N2\n",
    "print(f'The product is {result:.3f}')\n",
    "result = N1 / N2\n",
    "print(f'The quotient is {result:.3f}')\n",
    "print(f'The type for the result is {type(result)}')"
   ]
  },
  {
   "cell_type": "markdown",
   "id": "8dadc130-4c8a-4848-b404-6c42ab042383",
   "metadata": {},
   "source": [
    "### Problem 2 - Calculating Target Heart Rate"
   ]
  },
  {
   "cell_type": "code",
   "execution_count": 24,
   "id": "05718a17-16a3-4fb6-b96c-afb0de57dd8a",
   "metadata": {
    "tags": []
   },
   "outputs": [
    {
     "name": "stdin",
     "output_type": "stream",
     "text": [
      "Enter age:  20\n"
     ]
    },
    {
     "name": "stdout",
     "output_type": "stream",
     "text": [
      "Max heart rate= 200\n",
      "The upper limit of heart rate during exercize is 170 and the lower limit is 100\n"
     ]
    }
   ],
   "source": [
    "Age = int(input('Enter age: '))\n",
    "max = 220 - Age\n",
    "print(f'Max heart rate= {max:.0f}')\n",
    "uplim = max * .85\n",
    "lowlim = max * .5\n",
    "print(f'The upper limit of heart rate during exercize is {uplim:.0f} and the lower limit is {lowlim:.0f}')"
   ]
  },
  {
   "cell_type": "code",
   "execution_count": null,
   "id": "eeb326ff-2931-4e2a-b1a4-566fcbe91467",
   "metadata": {},
   "outputs": [],
   "source": []
  }
 ],
 "metadata": {
  "kernelspec": {
   "display_name": "Python 3 (ipykernel)",
   "language": "python",
   "name": "python3"
  },
  "language_info": {
   "codemirror_mode": {
    "name": "ipython",
    "version": 3
   },
   "file_extension": ".py",
   "mimetype": "text/x-python",
   "name": "python",
   "nbconvert_exporter": "python",
   "pygments_lexer": "ipython3",
   "version": "3.11.5"
  }
 },
 "nbformat": 4,
 "nbformat_minor": 5
}
